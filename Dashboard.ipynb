{
  "cells": [
    {
      "cell_type": "markdown",
      "metadata": {
        "id": "view-in-github",
        "colab_type": "text"
      },
      "source": [
        "<a href=\"https://colab.research.google.com/github/salimahdiyyah/Dashboard/blob/main/Dashboard.ipynb\" target=\"_parent\"><img src=\"https://colab.research.google.com/assets/colab-badge.svg\" alt=\"Open In Colab\"/></a>"
      ]
    },
    {
      "cell_type": "code",
      "execution_count": 132,
      "metadata": {
        "id": "oQ2pZNrDHxa2"
      },
      "outputs": [],
      "source": [
        "import pandas as pd\n",
        "import matplotlib.pyplot as plt\n",
        "import seaborn as sns\n",
        "import streamlit as st\n",
        "from babel.numbers import format_currency\n",
        "sns.set(style='dark')"
      ]
    },
    {
      "cell_type": "code",
      "execution_count": 133,
      "metadata": {
        "id": "wzlKVLAuJhOF"
      },
      "outputs": [],
      "source": [
        "def create_monthly_orders_df(df):\n",
        "    monthly_orders_df = df.resample(rule='M', on='order_purchase_timestamp').agg({\n",
        "        \"order_id\": \"nunique\",\n",
        "        \"payment_value\": \"sum\"\n",
        "    })\n",
        "    monthly_orders_df = monthly_orders_df.reset_index()\n",
        "    monthly_orders_df.rename(columns={\n",
        "        \"order_id\": \"order_count\",\n",
        "        \"payment_value\": \"revenue\"\n",
        "    }, inplace=True)\n",
        "\n",
        "    return monthly_orders_df"
      ]
    },
    {
      "cell_type": "code",
      "execution_count": 134,
      "metadata": {
        "id": "KTAwL59BJjD2"
      },
      "outputs": [],
      "source": [
        "def create_sum_items_df(df):\n",
        "    sum_items_df = df.groupby(\"product_category_name_english\").order_id.nunique().sort_values(ascending=False).reset_index()\n",
        "    sum_items_df.rename(columns={\"product_category_name_english\": \"product_category\", \"order_id\":\"count\"}, inplace=True)\n",
        "    return sum_items_df"
      ]
    },
    {
      "cell_type": "code",
      "source": [
        "def create_product_by_payment(df):\n",
        "    product_by_payment = df.groupby(\"product_category_name_english\").payment_value.nunique().sort_values(ascending=False).reset_index()\n",
        "    product_by_payment.rename(columns={\"product_category_name_english\": \"product_category\", \"payment_value\":\"count\"}, inplace=True)\n",
        "    return product_by_payment"
      ],
      "metadata": {
        "id": "_XVvsaaXckTY"
      },
      "execution_count": 135,
      "outputs": []
    },
    {
      "cell_type": "code",
      "execution_count": 136,
      "metadata": {
        "id": "ZpJ1z3JMKO7R"
      },
      "outputs": [],
      "source": [
        "def create_bycity_df(df):\n",
        "    bycity_df = df.groupby(by=\"customer_city\").agg({\"customer_id\":\"nunique\", \"payment_value\":\"sum\"}).sort_values(ascending=False, by=\"payment_value\").reset_index()\n",
        "    bycity_df.rename(columns={\n",
        "        \"customer_id\": \"count\",\n",
        "        \"customer_city\":\"city\",\n",
        "        \"payment_value\":\"revenue\"\n",
        "    }, inplace=True)\n",
        "\n",
        "    return bycity_df"
      ]
    },
    {
      "cell_type": "code",
      "execution_count": 137,
      "metadata": {
        "id": "bmn9A80eKXyR"
      },
      "outputs": [],
      "source": [
        "def create_rfm_df(df):\n",
        "    rfm_df = df.groupby(by=\"customer_unique_id\", as_index=False).agg({\n",
        "        \"order_purchase_timestamp\": \"max\", #mengambil tanggal order terakhir\n",
        "        \"order_id\": \"nunique\",\n",
        "        \"payment_value\": \"sum\"\n",
        "    })\n",
        "    rfm_df.columns = [\"customer_unique_id\", \"max_order_timestamp\", \"frequency\", \"monetary\"]\n",
        "\n",
        "    # menghitung kapan terakhir pelanggan melakukan transaksi (hari)\n",
        "    rfm_df[\"max_order_timestamp\"] = rfm_df[\"max_order_timestamp\"].dt.date\n",
        "    recent_date = df[\"order_purchase_timestamp\"].dt.date.max()\n",
        "    rfm_df[\"recency\"] = rfm_df[\"max_order_timestamp\"].apply(lambda x: (recent_date - x).days)\n",
        "\n",
        "    return rfm_df"
      ]
    },
    {
      "cell_type": "code",
      "execution_count": 138,
      "metadata": {
        "id": "v52z8W4tKa2x"
      },
      "outputs": [],
      "source": [
        "all_df = pd.read_csv(\"merge_data.csv\")"
      ]
    },
    {
      "cell_type": "code",
      "execution_count": 139,
      "metadata": {
        "id": "1wzDWvCVLhb8"
      },
      "outputs": [],
      "source": [
        "datetime_columns = [\"order_purchase_timestamp\", \"order_estimated_delivery_date\"]\n",
        "all_df.sort_values(by=\"order_purchase_timestamp\", inplace=True)\n",
        "all_df.reset_index(inplace=True)\n",
        "\n",
        "for column in datetime_columns:\n",
        "    all_df[column] = pd.to_datetime(all_df[column])\n"
      ]
    },
    {
      "cell_type": "code",
      "execution_count": 140,
      "metadata": {
        "id": "b6O7DhMwLoKH"
      },
      "outputs": [],
      "source": [
        "min_date = all_df[\"order_purchase_timestamp\"].min()\n",
        "max_date = all_df[\"order_purchase_timestamp\"].max()\n",
        "\n",
        "with st.sidebar:\n",
        "    # Menambahkan logo perusahaan\n",
        "    st.image(\"https://raw.githubusercontent.com/salimahdiyyah/Dashboard/main/E-commerce-preview.png\")\n",
        "\n",
        "    # Mengambil start_date & end_date dari date_input\n",
        "    start_date, end_date = st.date_input(\n",
        "        label='Rentang Waktu',min_value=min_date,\n",
        "        max_value=max_date,\n",
        "        value=[min_date, max_date]\n",
        "    )"
      ]
    },
    {
      "cell_type": "code",
      "execution_count": 141,
      "metadata": {
        "id": "9HcwKEbvLveI"
      },
      "outputs": [],
      "source": [
        "main_df = all_df[(all_df[\"order_purchase_timestamp\"] >= str(start_date)) &\n",
        "                (all_df[\"order_purchase_timestamp\"] <= str(end_date))]"
      ]
    },
    {
      "cell_type": "code",
      "execution_count": 142,
      "metadata": {
        "id": "Ce8SqkhVMDdV"
      },
      "outputs": [],
      "source": [
        "monthly_orders_df = create_monthly_orders_df(main_df)\n",
        "sum_items_df = create_sum_items_df(main_df)\n",
        "product_by_payment = create_product_by_payment(main_df)\n",
        "bycity_df = create_bycity_df(main_df)\n",
        "rfm_df = create_rfm_df(main_df)"
      ]
    },
    {
      "cell_type": "code",
      "execution_count": 143,
      "metadata": {
        "id": "xlyO-VaqMIqN",
        "colab": {
          "base_uri": "https://localhost:8080/"
        },
        "outputId": "583dd3d8-584a-49ca-981c-19e0a1296d30"
      },
      "outputs": [
        {
          "output_type": "execute_result",
          "data": {
            "text/plain": [
              "DeltaGenerator()"
            ]
          },
          "metadata": {},
          "execution_count": 143
        }
      ],
      "source": [
        "st.header('E-Commerce Public Dashboard :sparkles:')"
      ]
    },
    {
      "cell_type": "code",
      "execution_count": 144,
      "metadata": {
        "id": "M9TYtmawMMDl",
        "colab": {
          "base_uri": "https://localhost:8080/"
        },
        "outputId": "c9ede967-d3ba-4bfd-cbf1-b12d19a2ac36"
      },
      "outputs": [
        {
          "output_type": "execute_result",
          "data": {
            "text/plain": [
              "DeltaGenerator()"
            ]
          },
          "metadata": {},
          "execution_count": 144
        }
      ],
      "source": [
        "st.subheader('monthly Orders')\n",
        "\n",
        "col1, col2 = st.columns(2)\n",
        "\n",
        "with col1:\n",
        "    total_orders = monthly_orders_df.order_count.sum()\n",
        "    st.metric(\"Total orders\", value=total_orders)\n",
        "\n",
        "with col2:\n",
        "    total_revenue = format_currency(monthly_orders_df.revenue.sum(), \"AUD\", locale='es_CO')\n",
        "    st.metric(\"Total Revenue\", value=total_revenue)\n",
        "\n",
        "fig, ax = plt.subplots(figsize=(16, 8))\n",
        "ax.plot(\n",
        "    monthly_orders_df[\"order_purchase_timestamp\"],\n",
        "    monthly_orders_df[\"order_count\"],\n",
        "    marker='o',\n",
        "    linewidth=2,\n",
        "    color=\"#90CAF9\"\n",
        ")\n",
        "ax.tick_params(axis='y', labelsize=20)\n",
        "ax.tick_params(axis='x', labelsize=15)\n",
        "\n",
        "st.pyplot(fig)"
      ]
    },
    {
      "cell_type": "code",
      "execution_count": 145,
      "metadata": {
        "id": "MKcmPDQ9MRtc",
        "colab": {
          "base_uri": "https://localhost:8080/"
        },
        "outputId": "1fb80598-5e38-4da1-b7d2-2d1bc634e54b"
      },
      "outputs": [
        {
          "output_type": "execute_result",
          "data": {
            "text/plain": [
              "DeltaGenerator()"
            ]
          },
          "metadata": {},
          "execution_count": 145
        }
      ],
      "source": [
        "st.subheader(\"Best & Worst Performing Product\")\n",
        "\n",
        "fig, ax = plt.subplots(nrows=1, ncols=2, figsize=(35, 15))\n",
        "\n",
        "colors = [\"#90CAF9\", \"#D3D3D3\", \"#D3D3D3\", \"#D3D3D3\", \"#D3D3D3\"]\n",
        "\n",
        "sns.barplot(x=\"count\", y=\"product_category\", data=sum_items_df.head(5), palette=colors, ax=ax[0])\n",
        "ax[0].set_ylabel(None)\n",
        "ax[0].set_xlabel(\"Number of Sales\", fontsize=30)\n",
        "ax[0].set_title(\"Top 5 Best Performing Product\", loc=\"center\", fontsize=50)\n",
        "ax[0].tick_params(axis='y', labelsize=35)\n",
        "ax[0].tick_params(axis='x', labelsize=30)\n",
        "\n",
        "sns.barplot(x=\"count\", y=\"product_category\", data=sum_items_df.sort_values(by=\"count\", ascending=True).head(5), palette=colors, ax=ax[1])\n",
        "ax[1].set_ylabel(None)\n",
        "ax[1].set_xlabel(\"Number of Sales\", fontsize=30)\n",
        "ax[1].invert_xaxis()\n",
        "ax[1].yaxis.set_label_position(\"right\")\n",
        "ax[1].yaxis.tick_right()\n",
        "ax[1].set_title(\" Top 5 Worst Performing Product\", loc=\"center\", fontsize=50)\n",
        "ax[1].tick_params(axis='y', labelsize=35)\n",
        "ax[1].tick_params(axis='x', labelsize=30)\n",
        "\n",
        "st.pyplot(fig)"
      ]
    },
    {
      "cell_type": "code",
      "execution_count": 146,
      "metadata": {
        "id": "JPqG3amvMWlY",
        "colab": {
          "base_uri": "https://localhost:8080/"
        },
        "outputId": "42dd6e72-f05f-4ed6-9052-71e68ffd8efc"
      },
      "outputs": [
        {
          "output_type": "execute_result",
          "data": {
            "text/plain": [
              "DeltaGenerator()"
            ]
          },
          "metadata": {},
          "execution_count": 146
        }
      ],
      "source": [
        "st.subheader(\"Best Performing Product Categories by Number of Revenue\")\n",
        "\n",
        "plt.figure(figsize=(10, 5))\n",
        "sns.barplot(x=\"count\", y=\"product_category\", data=product_by_payment.head(5), palette=colors)\n",
        "plt.ylabel(None)\n",
        "plt.xlabel(\"Number of Sales\", fontsize=15)\n",
        "plt.yticks(fontsize=15)\n",
        "plt.xticks(fontsize=10)\n",
        "plt.tight_layout()\n",
        "\n",
        "st.pyplot(fig)"
      ]
    },
    {
      "cell_type": "code",
      "execution_count": 147,
      "metadata": {
        "id": "Tqzk-YsacvVf",
        "colab": {
          "base_uri": "https://localhost:8080/"
        },
        "outputId": "c0c9f0eb-8430-468f-e42e-45760cfdfa5b"
      },
      "outputs": [
        {
          "output_type": "execute_result",
          "data": {
            "text/plain": [
              "DeltaGenerator()"
            ]
          },
          "metadata": {},
          "execution_count": 147
        }
      ],
      "source": [
        "# Revenue demographic\n",
        "st.subheader(\"Revenue Demographics\")\n",
        "fig= plt.figure (figsize=(20, 10))\n",
        "colors = [\"#748E63\", \"#D3D3D3\", \"#D3D3D3\", \"#D3D3D3\", \"#D3D3D3\"]\n",
        "sns.barplot(\n",
        "    x=\"revenue\",\n",
        "    y=\"city\",\n",
        "    data=bycity_df.head(),\n",
        "    palette=colors\n",
        ")\n",
        "plt.title(\"Top 5 Number of Revenue by City\", loc=\"center\", fontsize=15)\n",
        "plt.ylabel(None)\n",
        "plt.xlabel(None)\n",
        "plt.tick_params(axis='y', labelsize=12)\n",
        "st.pyplot(fig)"
      ]
    },
    {
      "cell_type": "code",
      "execution_count": 148,
      "metadata": {
        "id": "AS_3lBSLua53",
        "colab": {
          "base_uri": "https://localhost:8080/"
        },
        "outputId": "4b234bbe-393f-4467-8c95-c69b9bef9cc2"
      },
      "outputs": [
        {
          "output_type": "execute_result",
          "data": {
            "text/plain": [
              "DeltaGenerator()"
            ]
          },
          "metadata": {},
          "execution_count": 148
        }
      ],
      "source": [
        "# Payment Method\n",
        "st.subheader(\"Total Order by Payment Method\")\n",
        "\n",
        "plt.figure(figsize=(10,6))\n",
        "colors = [\"#748E63\", \"#D3D3D3\", \"#D3D3D3\", \"#D3D3D3\", \"#D3D3D3\"]\n",
        "sns.countplot(data=all_df, x=\"payment_type\", palette=colors)\n",
        "plt.xlabel(None)\n",
        "plt.ylabel(None)\n",
        "plt.tight_layout()\n",
        "\n",
        "st.pyplot(fig)"
      ]
    },
    {
      "cell_type": "code",
      "execution_count": 149,
      "metadata": {
        "id": "e8_vsInnuj6Q",
        "colab": {
          "base_uri": "https://localhost:8080/"
        },
        "outputId": "c692fd56-21a0-4bf5-f5c2-052f2fffe93f"
      },
      "outputs": [
        {
          "output_type": "execute_result",
          "data": {
            "text/plain": [
              "DeltaGenerator()"
            ]
          },
          "metadata": {},
          "execution_count": 149
        }
      ],
      "source": [
        "# Review Score\n",
        "st.subheader(\"Review Score Distribution\")\n",
        "\n",
        "fig, ax = plt.subplots(figsize=(10,6))\n",
        "colors = [\"#D3D3D3\", \"#D3D3D3\", \"#D3D3D3\", \"#D3D3D3\", \"#748E63\"]\n",
        "sns.countplot(data=all_df, x=\"review_score\", palette=colors, ax=ax)\n",
        "ax.set_xlabel('Review Score',  fontdict={'fontsize':15})\n",
        "ax.set_ylabel('Count', fontdict={'fontsize':15})\n",
        "fig.tight_layout()\n",
        "\n",
        "st.pyplot(fig)"
      ]
    },
    {
      "cell_type": "code",
      "execution_count": 150,
      "metadata": {
        "id": "tegdkx7rQpk2",
        "colab": {
          "base_uri": "https://localhost:8080/"
        },
        "outputId": "2e6eef04-36a6-444e-9df0-5b828a9c5aa6"
      },
      "outputs": [
        {
          "output_type": "execute_result",
          "data": {
            "text/plain": [
              "DeltaGenerator()"
            ]
          },
          "metadata": {},
          "execution_count": 150
        }
      ],
      "source": [
        "st.subheader(\"Best Customer Based on RFM Parameters\")\n",
        "\n",
        "col1, col2, col3 = st.columns(3)\n",
        "\n",
        "with col1:\n",
        "    avg_recency = round(rfm_df.recency.mean(), 1)\n",
        "    st.metric(\"Average Recency (days)\", value=avg_recency)\n",
        "\n",
        "with col2:\n",
        "    avg_frequency = round(rfm_df.frequency.mean(), 2)\n",
        "    st.metric(\"Average Frequency\", value=avg_frequency)\n",
        "\n",
        "with col3:\n",
        "    avg_frequency = format_currency(rfm_df.monetary.mean(), \"AUD\", locale='es_CO')\n",
        "    st.metric(\"Average Monetary\", value=avg_frequency)\n",
        "\n",
        "fig, ax = plt.subplots(nrows=1, ncols=3, figsize=(35, 15))\n",
        "colors = [\"#90CAF9\", \"#90CAF9\", \"#90CAF9\", \"#90CAF9\", \"#90CAF9\"]\n",
        "\n",
        "sns.barplot(y=\"recency\", x=\"customer_unique_id\", data=rfm_df.sort_values(by=\"recency\", ascending=True).head(5), palette=colors, ax=ax[0])\n",
        "ax[0].set_ylabel(None)\n",
        "ax[0].set_xlabel(\"customer_unique_id\", fontsize=30)\n",
        "ax[0].set_title(\"By Recency (days)\", loc=\"center\", fontsize=50)\n",
        "ax[0].tick_params(axis='y', labelsize=30)\n",
        "ax[0].tick_params(axis='x', labelsize=35)\n",
        "\n",
        "sns.barplot(y=\"frequency\", x=\"customer_unique_id\", data=rfm_df.sort_values(by=\"frequency\", ascending=False).head(5), palette=colors, ax=ax[1])\n",
        "ax[1].set_ylabel(None)\n",
        "ax[1].set_xlabel(\"customer_unique_id\", fontsize=30)\n",
        "ax[1].set_title(\"By Frequency\", loc=\"center\", fontsize=50)\n",
        "ax[1].tick_params(axis='y', labelsize=30)\n",
        "ax[1].tick_params(axis='x', labelsize=35)\n",
        "\n",
        "sns.barplot(y=\"monetary\", x=\"customer_unique_id\", data=rfm_df.sort_values(by=\"monetary\", ascending=False).head(5), palette=colors, ax=ax[2])\n",
        "ax[2].set_ylabel(None)\n",
        "ax[2].set_xlabel(\"customer_unique_id\", fontsize=30)\n",
        "ax[2].set_title(\"By Monetary\", loc=\"center\", fontsize=50)\n",
        "ax[2].tick_params(axis='y', labelsize=30)\n",
        "ax[2].tick_params(axis='x', labelsize=35)\n",
        "\n",
        "st.pyplot(fig)\n",
        "\n",
        "st.caption('Copyright (c) Salimah Dicoding 2023')"
      ]
    }
  ],
  "metadata": {
    "colab": {
      "provenance": [],
      "authorship_tag": "ABX9TyOW38hThARY+QcYpX2fwPKT",
      "include_colab_link": true
    },
    "kernelspec": {
      "display_name": "Python 3",
      "name": "python3"
    },
    "language_info": {
      "name": "python"
    }
  },
  "nbformat": 4,
  "nbformat_minor": 0
}